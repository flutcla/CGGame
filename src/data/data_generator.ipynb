{
 "cells": [
  {
   "cell_type": "markdown",
   "metadata": {},
   "source": [
    "- 1st day2 昼夜区別なし\n",
    "- 5th 福岡 day区別なし\n",
    "- 5th 宮城 day区別なし\n",
    "- 5th 幕張 day区別なし\n",
    "- 5th 静岡 day区別なし\n",
    "- 5th 大阪 day区別なし\n",
    "- 5th 石川 day区別なし"
   ]
  },
  {
   "cell_type": "code",
   "execution_count": 28,
   "metadata": {},
   "outputs": [],
   "source": [
    "import json\n",
    "import csv\n",
    "\n",
    "# one-hot encodeする\n",
    "datum = []\n",
    "with open('./data.csv') as f:\n",
    "  reader = csv.reader(f)\n",
    "  for data in reader:\n",
    "    if data[0] == '披露日':\n",
    "      continue\n",
    "    datum.append([\n",
    "        f'10th {str(data[2][17:])} {data[3]}' if '10th' in data[2] else (f\"{data[2]} {data[3]}\".strip() if data[3] != '' else data[2].strip()),\n",
    "        data[7].strip(),\n",
    "        [data[i].strip() for i in range(9, len(data))]\n",
    "    ])\n",
    "events = list()\n",
    "songs = list()\n",
    "singers = list()\n",
    "\n",
    "for data in datum:\n",
    "  event_name = data[0]\n",
    "  song_name = data[1]\n",
    "  singer_list = data[2]\n",
    "  if event_name not in events:\n",
    "    events.append(event_name)\n",
    "  if song_name not in songs:\n",
    "    songs.append(song_name)\n",
    "  for singer in singer_list:\n",
    "    if singer not in singers:\n",
    "      singers.append(singer)\n",
    "\n",
    "# datum2 = {'datum': []}\n",
    "datum2 = []\n",
    "for idx, data in enumerate(datum):\n",
    "  event_onehot = [0] * len(events)\n",
    "  song_onehot = [0] * len(songs)\n",
    "  singer_onehot = [0] * len(singers)\n",
    "\n",
    "  event_name = data[0]\n",
    "  song_name = data[1]\n",
    "  singer_list = data[2]\n",
    "\n",
    "  event_onehot[events.index(event_name)] = 1\n",
    "  song_onehot[songs.index(song_name)] = 1\n",
    "  for singer_name in singer_list:\n",
    "    singer_onehot[singers.index(singer_name)] = 1\n",
    "  \n",
    "  # datum2['datum'].append({\n",
    "  datum2.append({\n",
    "    'event': event_onehot,\n",
    "    'song': song_onehot,\n",
    "    'singer': singer_onehot\n",
    "  })\n",
    "\n",
    "with open('data_onehot.json', mode='w', encoding='utf-8') as f:\n",
    "  f.write(json.dumps(datum2, ensure_ascii=False))\n",
    "\n",
    "indices = {\n",
    "  'event': events,\n",
    "  'song': songs,\n",
    "  'singer': singers,\n",
    "}\n",
    "with open('data_onehot_indices.json', mode='w', encoding='utf-8') as f:\n",
    "  f.write(json.dumps(indices, ensure_ascii=False, indent=4))"
   ]
  },
  {
   "cell_type": "code",
   "execution_count": null,
   "metadata": {},
   "outputs": [],
   "source": []
  }
 ],
 "metadata": {
  "kernelspec": {
   "display_name": "Python 3.10.1 64-bit",
   "language": "python",
   "name": "python3"
  },
  "language_info": {
   "codemirror_mode": {
    "name": "ipython",
    "version": 3
   },
   "file_extension": ".py",
   "mimetype": "text/x-python",
   "name": "python",
   "nbconvert_exporter": "python",
   "pygments_lexer": "ipython3",
   "version": "3.10.1"
  },
  "orig_nbformat": 4,
  "vscode": {
   "interpreter": {
    "hash": "c9dd187357f4fe1f5194460de8e267f2cd809e252fa497f2e9221b1ee67c67d2"
   }
  }
 },
 "nbformat": 4,
 "nbformat_minor": 2
}
